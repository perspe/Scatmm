{
 "cells": [
  {
   "cell_type": "markdown",
   "id": "8da8b0d0-461a-4e52-a7fb-d09734642b2f",
   "metadata": {},
   "source": [
    "# Imports"
   ]
  },
  {
   "cell_type": "markdown",
   "id": "eb3355df-1f3f-44e2-98b5-b0940bc782a5",
   "metadata": {},
   "source": [
    "Standard Imports"
   ]
  },
  {
   "cell_type": "code",
   "execution_count": 1,
   "id": "98710116-8a52-4248-880a-4f5bcccf5b42",
   "metadata": {
    "execution": {
     "iopub.execute_input": "2022-02-11T10:45:50.726249Z",
     "iopub.status.busy": "2022-02-11T10:45:50.725975Z",
     "iopub.status.idle": "2022-02-11T10:45:50.744383Z",
     "shell.execute_reply": "2022-02-11T10:45:50.740996Z",
     "shell.execute_reply.started": "2022-02-11T10:45:50.726181Z"
    },
    "tags": []
   },
   "outputs": [],
   "source": [
    "import numpy as np\n",
    "import matplotlib.pyplot as plt\n",
    "import pandas as pd\n",
    "plt.rcParams[\"figure.figsize\"] = (15, 11)\n",
    "# Change the default plot theming\n",
    "from jupyterthemes import jtplot\n",
    "jtplot.style(theme=\"default\")"
   ]
  },
  {
   "cell_type": "markdown",
   "id": "8a9385ba-0fa3-4fe1-88e0-fd7d40d89c3e",
   "metadata": {},
   "source": [
    "Scatmm Related imports"
   ]
  },
  {
   "cell_type": "code",
   "execution_count": 2,
   "id": "0d9c27af-c571-4a64-af66-b8c4fa890d9c",
   "metadata": {
    "execution": {
     "iopub.execute_input": "2022-02-11T10:45:50.746991Z",
     "iopub.status.busy": "2022-02-11T10:45:50.746647Z",
     "iopub.status.idle": "2022-02-11T10:45:50.773901Z",
     "shell.execute_reply": "2022-02-11T10:45:50.773083Z",
     "shell.execute_reply.started": "2022-02-11T10:45:50.746953Z"
    },
    "tags": []
   },
   "outputs": [],
   "source": [
    "# Import the Database class to interact with the stored data\n",
    "from Database.database import Database\n",
    "# Layer management - Layer1D (non-dispersive materials)/Layer3D (dispersive materials)\n",
    "from modules.s_matrix import Layer1D, Layer3D\n",
    "# Import the functions responsible for the calculations\n",
    "from modules.s_matrix import smm_broadband, smm, smm_layer, smm_angle\n",
    "# Default dictionary with simulation configuration\n",
    "from modules.s_matrix import sim_config"
   ]
  },
  {
   "cell_type": "markdown",
   "id": "fda8e42a-7fc0-4123-9172-e4d733fc3639",
   "metadata": {},
   "source": [
    "# See Documentation"
   ]
  },
  {
   "cell_type": "markdown",
   "id": "05822ffd-ea1c-487d-b7ef-8f1534932c9e",
   "metadata": {},
   "source": [
    "Documentation for the functions - use ?"
   ]
  },
  {
   "cell_type": "code",
   "execution_count": 4,
   "id": "04070232-588a-4163-9663-798a1247faf9",
   "metadata": {
    "execution": {
     "iopub.execute_input": "2022-02-11T10:31:00.788933Z",
     "iopub.status.busy": "2022-02-11T10:31:00.788533Z",
     "iopub.status.idle": "2022-02-11T10:31:00.841269Z",
     "shell.execute_reply": "2022-02-11T10:31:00.839196Z",
     "shell.execute_reply.started": "2022-02-11T10:31:00.788896Z"
    },
    "tags": []
   },
   "outputs": [
    {
     "data": {
      "text/plain": [
       "\u001b[0;31mInit signature:\u001b[0m \u001b[0mLayer1D\u001b[0m\u001b[0;34m(\u001b[0m\u001b[0mname\u001b[0m\u001b[0;34m:\u001b[0m \u001b[0mstr\u001b[0m\u001b[0;34m,\u001b[0m \u001b[0mthickness\u001b[0m\u001b[0;34m:\u001b[0m \u001b[0mfloat\u001b[0m\u001b[0;34m,\u001b[0m \u001b[0mn_val\u001b[0m\u001b[0;34m:\u001b[0m \u001b[0mfloat\u001b[0m\u001b[0;34m,\u001b[0m \u001b[0mk_val\u001b[0m\u001b[0;34m:\u001b[0m \u001b[0mfloat\u001b[0m\u001b[0;34m)\u001b[0m \u001b[0;34m->\u001b[0m \u001b[0;32mNone\u001b[0m\u001b[0;34m\u001b[0m\u001b[0;34m\u001b[0m\u001b[0m\n",
       "\u001b[0;31mDocstring:\u001b[0m     \n",
       "Layer for single wavelength materials\n",
       "Args:\n",
       "    name (str): Identifier for the layer\n",
       "    thickness (float - nm): Layer thickness\n",
       "    lmb (nm)/n_val/k_val (array): Material info for the layer\n",
       "\u001b[0;31mFile:\u001b[0m           ~/Documents/Python/Scattering Matrix Method/Scatmm/modules/s_matrix.py\n",
       "\u001b[0;31mType:\u001b[0m           type\n",
       "\u001b[0;31mSubclasses:\u001b[0m     \n"
      ]
     },
     "metadata": {},
     "output_type": "display_data"
    }
   ],
   "source": [
    "?Layer1D"
   ]
  },
  {
   "cell_type": "code",
   "execution_count": 5,
   "id": "3eb9bd12-6c29-49e2-bdc0-ede67df60d3d",
   "metadata": {
    "execution": {
     "iopub.execute_input": "2022-02-11T10:31:03.540878Z",
     "iopub.status.busy": "2022-02-11T10:31:03.540390Z",
     "iopub.status.idle": "2022-02-11T10:31:03.556223Z",
     "shell.execute_reply": "2022-02-11T10:31:03.555519Z",
     "shell.execute_reply.started": "2022-02-11T10:31:03.540817Z"
    },
    "tags": []
   },
   "outputs": [
    {
     "data": {
      "text/plain": [
       "\u001b[0;31mInit signature:\u001b[0m\n",
       "\u001b[0mLayer3D\u001b[0m\u001b[0;34m(\u001b[0m\u001b[0;34m\u001b[0m\n",
       "\u001b[0;34m\u001b[0m    \u001b[0mname\u001b[0m\u001b[0;34m:\u001b[0m \u001b[0mstr\u001b[0m\u001b[0;34m,\u001b[0m\u001b[0;34m\u001b[0m\n",
       "\u001b[0;34m\u001b[0m    \u001b[0mthickness\u001b[0m\u001b[0;34m:\u001b[0m \u001b[0mfloat\u001b[0m\u001b[0;34m,\u001b[0m\u001b[0;34m\u001b[0m\n",
       "\u001b[0;34m\u001b[0m    \u001b[0mlmb\u001b[0m\u001b[0;34m:\u001b[0m \u001b[0mnumpy\u001b[0m\u001b[0;34m.\u001b[0m\u001b[0mndarray\u001b[0m\u001b[0;34m,\u001b[0m\u001b[0;34m\u001b[0m\n",
       "\u001b[0;34m\u001b[0m    \u001b[0mn_array\u001b[0m\u001b[0;34m:\u001b[0m \u001b[0mnumpy\u001b[0m\u001b[0;34m.\u001b[0m\u001b[0mndarray\u001b[0m\u001b[0;34m,\u001b[0m\u001b[0;34m\u001b[0m\n",
       "\u001b[0;34m\u001b[0m    \u001b[0mk_array\u001b[0m\u001b[0;34m:\u001b[0m \u001b[0mnumpy\u001b[0m\u001b[0;34m.\u001b[0m\u001b[0mndarray\u001b[0m\u001b[0;34m,\u001b[0m\u001b[0;34m\u001b[0m\n",
       "\u001b[0;34m\u001b[0m    \u001b[0;34m**\u001b[0m\u001b[0mkwargs\u001b[0m\u001b[0;34m,\u001b[0m\u001b[0;34m\u001b[0m\n",
       "\u001b[0;34m\u001b[0m\u001b[0;34m)\u001b[0m \u001b[0;34m->\u001b[0m \u001b[0;32mNone\u001b[0m\u001b[0;34m\u001b[0m\u001b[0;34m\u001b[0m\u001b[0m\n",
       "\u001b[0;31mDocstring:\u001b[0m     \n",
       "Layer for single wavelength materials\n",
       "Args:\n",
       "    name (str): Identifier for the layer\n",
       "    thickness (float - nm): Layer thickness\n",
       "    lmb (nm)/n_array/k_array (array): Arrays with the\n",
       "                                      basic info for each layer\n",
       "    **kwargs: Pass extra arguments for interpolation function\n",
       "\u001b[0;31mFile:\u001b[0m           ~/Documents/Python/Scattering Matrix Method/Scatmm/modules/s_matrix.py\n",
       "\u001b[0;31mType:\u001b[0m           type\n",
       "\u001b[0;31mSubclasses:\u001b[0m     \n"
      ]
     },
     "metadata": {},
     "output_type": "display_data"
    }
   ],
   "source": [
    "?Layer3D"
   ]
  },
  {
   "cell_type": "code",
   "execution_count": 6,
   "id": "df3a9ca4-3035-42d1-861d-bed82d63c541",
   "metadata": {
    "execution": {
     "iopub.execute_input": "2022-02-11T10:31:05.787699Z",
     "iopub.status.busy": "2022-02-11T10:31:05.786562Z",
     "iopub.status.idle": "2022-02-11T10:31:05.809795Z",
     "shell.execute_reply": "2022-02-11T10:31:05.808696Z",
     "shell.execute_reply.started": "2022-02-11T10:31:05.787578Z"
    },
    "tags": []
   },
   "outputs": [
    {
     "data": {
      "text/plain": [
       "\u001b[0;31mSignature:\u001b[0m\n",
       "\u001b[0msmm_broadband\u001b[0m\u001b[0;34m(\u001b[0m\u001b[0;34m\u001b[0m\n",
       "\u001b[0;34m\u001b[0m    \u001b[0mlayer_list\u001b[0m\u001b[0;34m:\u001b[0m \u001b[0mList\u001b[0m\u001b[0;34m[\u001b[0m\u001b[0mUnion\u001b[0m\u001b[0;34m[\u001b[0m\u001b[0mmodules\u001b[0m\u001b[0;34m.\u001b[0m\u001b[0ms_matrix\u001b[0m\u001b[0;34m.\u001b[0m\u001b[0mLayer1D\u001b[0m\u001b[0;34m,\u001b[0m \u001b[0mmodules\u001b[0m\u001b[0;34m.\u001b[0m\u001b[0ms_matrix\u001b[0m\u001b[0;34m.\u001b[0m\u001b[0mLayer3D\u001b[0m\u001b[0;34m]\u001b[0m\u001b[0;34m]\u001b[0m\u001b[0;34m,\u001b[0m\u001b[0;34m\u001b[0m\n",
       "\u001b[0;34m\u001b[0m    \u001b[0mtheta\u001b[0m\u001b[0;34m:\u001b[0m \u001b[0mfloat\u001b[0m\u001b[0;34m,\u001b[0m\u001b[0;34m\u001b[0m\n",
       "\u001b[0;34m\u001b[0m    \u001b[0mphi\u001b[0m\u001b[0;34m:\u001b[0m \u001b[0mfloat\u001b[0m\u001b[0;34m,\u001b[0m\u001b[0;34m\u001b[0m\n",
       "\u001b[0;34m\u001b[0m    \u001b[0mlmb\u001b[0m\u001b[0;34m:\u001b[0m \u001b[0mnumpy\u001b[0m\u001b[0;34m.\u001b[0m\u001b[0mndarray\u001b[0m\u001b[0;34m,\u001b[0m\u001b[0;34m\u001b[0m\n",
       "\u001b[0;34m\u001b[0m    \u001b[0mpol\u001b[0m\u001b[0;34m:\u001b[0m \u001b[0mTuple\u001b[0m\u001b[0;34m[\u001b[0m\u001b[0mcomplex\u001b[0m\u001b[0;34m,\u001b[0m \u001b[0mcomplex\u001b[0m\u001b[0;34m]\u001b[0m\u001b[0;34m,\u001b[0m\u001b[0;34m\u001b[0m\n",
       "\u001b[0;34m\u001b[0m    \u001b[0mi_med\u001b[0m\u001b[0;34m:\u001b[0m \u001b[0mTuple\u001b[0m\u001b[0;34m[\u001b[0m\u001b[0mcomplex\u001b[0m\u001b[0;34m,\u001b[0m \u001b[0mcomplex\u001b[0m\u001b[0;34m]\u001b[0m\u001b[0;34m,\u001b[0m\u001b[0;34m\u001b[0m\n",
       "\u001b[0;34m\u001b[0m    \u001b[0mt_med\u001b[0m\u001b[0;34m:\u001b[0m \u001b[0mTuple\u001b[0m\u001b[0;34m[\u001b[0m\u001b[0mcomplex\u001b[0m\u001b[0;34m,\u001b[0m \u001b[0mcomplex\u001b[0m\u001b[0;34m]\u001b[0m\u001b[0;34m,\u001b[0m\u001b[0;34m\u001b[0m\n",
       "\u001b[0;34m\u001b[0m    \u001b[0moverride_thick\u001b[0m\u001b[0;34m=\u001b[0m\u001b[0;32mNone\u001b[0m\u001b[0;34m,\u001b[0m\u001b[0;34m\u001b[0m\n",
       "\u001b[0;34m\u001b[0m\u001b[0;34m)\u001b[0m \u001b[0;34m->\u001b[0m \u001b[0mTuple\u001b[0m\u001b[0;34m[\u001b[0m\u001b[0mnumpy\u001b[0m\u001b[0;34m.\u001b[0m\u001b[0mndarray\u001b[0m\u001b[0;34m,\u001b[0m \u001b[0mnumpy\u001b[0m\u001b[0;34m.\u001b[0m\u001b[0mndarray\u001b[0m\u001b[0;34m]\u001b[0m\u001b[0;34m\u001b[0m\u001b[0;34m\u001b[0m\u001b[0m\n",
       "\u001b[0;31mDocstring:\u001b[0m\n",
       "SMM for broadband simulation\n",
       "Args:\n",
       "    layer_list: List of Layer objects with the info for all layers\n",
       "    theta/phi: Incidence angles\n",
       "    lmb: Array with wavelengths for simulation\n",
       "    pol: Tuple with the TM/TE polarization components\n",
       "    i_med/t_med: Data for the reflection and transmission media\n",
       "    override_thick: Override the built thickness of the layers\n",
       "Returns:\n",
       "    R, T: Arrays with the Reflection and transmission for the layer setup\n",
       "\u001b[0;31mFile:\u001b[0m      ~/Documents/Python/Scattering Matrix Method/Scatmm/modules/s_matrix.py\n",
       "\u001b[0;31mType:\u001b[0m      function\n"
      ]
     },
     "metadata": {},
     "output_type": "display_data"
    }
   ],
   "source": [
    "?smm_broadband"
   ]
  },
  {
   "cell_type": "markdown",
   "id": "7f623e2a-bae6-433e-8593-b2978d0951dc",
   "metadata": {},
   "source": [
    "# Simulations"
   ]
  },
  {
   "cell_type": "markdown",
   "id": "d207a729-3b2a-49fc-ae26-8da66aa4d9e5",
   "metadata": {
    "tags": []
   },
   "source": [
    "The module comes with a default _sim_config_ dictionary structure with some default values\n",
    "\n",
    "__Notes__:\n",
    "* The default config should work for smm\n",
    "* For smm_angle/smm_broadband/smm_layer the respective changing variables should be set (theta and lmb)"
   ]
  },
  {
   "cell_type": "code",
   "execution_count": 7,
   "id": "02fe2080-6524-4dca-868b-0123fe12b44a",
   "metadata": {
    "execution": {
     "iopub.execute_input": "2022-02-11T10:31:08.449870Z",
     "iopub.status.busy": "2022-02-11T10:31:08.449473Z",
     "iopub.status.idle": "2022-02-11T10:31:08.462430Z",
     "shell.execute_reply": "2022-02-11T10:31:08.460418Z",
     "shell.execute_reply.started": "2022-02-11T10:31:08.449820Z"
    },
    "tags": []
   },
   "outputs": [
    {
     "name": "stdout",
     "output_type": "stream",
     "text": [
      "{'theta': 0.0, 'phi': 0.0, 'lmb': 500.0, 'pol': (1, 0), 'i_med': (1, 1), 't_med': (1, 1)}\n"
     ]
    }
   ],
   "source": [
    "# Default simulation configuration (only works with smm)\n",
    "print(sim_config)"
   ]
  },
  {
   "cell_type": "markdown",
   "id": "83527246-38c8-45e2-a329-5461ee0b9cab",
   "metadata": {},
   "source": [
    "## Simulation - Single Wavelength (500 nm)\n",
    "\n",
    "Layer Structure:\n",
    "Ref (e=1, u=1)|Layer1 (n=1.5, k=0, 250 nm)|Layer2 (n=1.7, k=0.1, 300 nm)|Trn (e=1, u=1)|"
   ]
  },
  {
   "cell_type": "code",
   "execution_count": 3,
   "id": "0794ae7b-c468-4921-bc56-06ba1c4f9151",
   "metadata": {
    "execution": {
     "iopub.execute_input": "2022-02-11T10:45:55.840923Z",
     "iopub.status.busy": "2022-02-11T10:45:55.840530Z",
     "iopub.status.idle": "2022-02-11T10:45:55.854797Z",
     "shell.execute_reply": "2022-02-11T10:45:55.853978Z",
     "shell.execute_reply.started": "2022-02-11T10:45:55.840878Z"
    },
    "tags": []
   },
   "outputs": [
    {
     "name": "stdout",
     "output_type": "stream",
     "text": [
      "1.0 1.0 [1.+0.j 0.+0.j]\n"
     ]
    },
    {
     "data": {
      "text/plain": [
       "(0.06249987221201086, 0.41650507396657144)"
      ]
     },
     "execution_count": 3,
     "metadata": {},
     "output_type": "execute_result"
    }
   ],
   "source": [
    "# First define the various layers\n",
    "Layer1 = Layer1D(\"Layer1\", 250, 1.5, 0)\n",
    "Layer2 = Layer1D(\"Layer2\", 300, 1.7, 0.1)\n",
    "# Create a dictionary with the remaining simulation values\n",
    "smm([Layer1, Layer2], **sim_config)"
   ]
  },
  {
   "cell_type": "markdown",
   "id": "d6ed7c29-25be-4bad-9aee-24acc2099236",
   "metadata": {
    "execution": {
     "iopub.execute_input": "2021-11-03T21:24:25.369344Z",
     "iopub.status.busy": "2021-11-03T21:24:25.368826Z",
     "iopub.status.idle": "2021-11-03T21:24:25.375826Z",
     "shell.execute_reply": "2021-11-03T21:24:25.375169Z",
     "shell.execute_reply.started": "2021-11-03T21:24:25.369314Z"
    }
   },
   "source": [
    "Changing input angle (the angle should be in radians)"
   ]
  },
  {
   "cell_type": "code",
   "execution_count": 4,
   "id": "132b9d75-9c29-4f68-9105-8c987c9a977f",
   "metadata": {
    "execution": {
     "iopub.execute_input": "2022-02-11T10:45:58.813616Z",
     "iopub.status.busy": "2022-02-11T10:45:58.813229Z",
     "iopub.status.idle": "2022-02-11T10:45:58.822731Z",
     "shell.execute_reply": "2022-02-11T10:45:58.821791Z",
     "shell.execute_reply.started": "2022-02-11T10:45:58.813578Z"
    },
    "tags": []
   },
   "outputs": [
    {
     "name": "stdout",
     "output_type": "stream",
     "text": [
      "0.6427876096865394 0.6427876096865394 [0.64278761+0.j 0.        +0.j]\n"
     ]
    },
    {
     "data": {
      "text/plain": [
       "(8.05281464351907e-06, 0.42832852454855935)"
      ]
     },
     "execution_count": 4,
     "metadata": {},
     "output_type": "execute_result"
    }
   ],
   "source": [
    "# override theta in sim_config\n",
    "# When changing values in the config is better to copy to a new variable\n",
    "new_config = sim_config.copy()\n",
    "new_config[\"theta\"] = np.radians(50) # 50º angle\n",
    "smm([Layer1, Layer2], **new_config)"
   ]
  },
  {
   "cell_type": "markdown",
   "id": "4ac07f4f-5a36-41c6-9c51-141b8e4d5f54",
   "metadata": {},
   "source": [
    "## Simulation Broadband - 300-900 nm\n",
    "\n",
    "Layer Structue: Ref(e=1, u=1)|L1: AZO(150 nm)|L2: aSi(300 nm)|L3:Al(120 nm)|Trn(e=1, u=1)"
   ]
  },
  {
   "cell_type": "code",
   "execution_count": 5,
   "id": "9ced7693-93a7-4f64-8957-728cf9ccf2ce",
   "metadata": {
    "execution": {
     "iopub.execute_input": "2022-02-11T10:46:01.286085Z",
     "iopub.status.busy": "2022-02-11T10:46:01.285179Z",
     "iopub.status.idle": "2022-02-11T10:46:01.298273Z",
     "shell.execute_reply": "2022-02-11T10:46:01.297431Z",
     "shell.execute_reply.started": "2022-02-11T10:46:01.286041Z"
    },
    "tags": []
   },
   "outputs": [
    {
     "data": {
      "text/plain": [
       "['aSi Pierce 1972',\n",
       " 'AZO Treharne 2011',\n",
       " 'ITO Konig 2014',\n",
       " 'ZnO Unknown',\n",
       " 'IZO Ellipsometer',\n",
       " 'Silicon Green',\n",
       " 'Al McPeak',\n",
       " 'Perovskite Phillips',\n",
       " 'aSi_H Ellipsometer',\n",
       " 'Ag JC',\n",
       " 'Perovskite Eerden',\n",
       " 'TiO2 - Siefke']"
      ]
     },
     "execution_count": 5,
     "metadata": {},
     "output_type": "execute_result"
    }
   ],
   "source": [
    "# Get the data from the database file\n",
    "db = Database(\"Database/database\")\n",
    "# Get Database content\n",
    "db.content"
   ]
  },
  {
   "cell_type": "code",
   "execution_count": 6,
   "id": "97739191-98c1-46d4-ad23-f7998836c0d1",
   "metadata": {
    "execution": {
     "iopub.execute_input": "2022-02-11T10:46:03.467672Z",
     "iopub.status.busy": "2022-02-11T10:46:03.466789Z",
     "iopub.status.idle": "2022-02-11T10:46:03.489810Z",
     "shell.execute_reply": "2022-02-11T10:46:03.482613Z",
     "shell.execute_reply.started": "2022-02-11T10:46:03.467635Z"
    },
    "tags": []
   },
   "outputs": [
    {
     "data": {
      "text/plain": [
       "True"
      ]
     },
     "execution_count": 6,
     "metadata": {},
     "output_type": "execute_result"
    }
   ],
   "source": [
    "# The Database can elements can be acessed in either of 2 ways\n",
    "# db[0] - with int integer that represent the number of the entry\n",
    "# db[\"aSi Pierce 1972\"] - with the string defining the name of the material\n",
    "# The data is provided as (wavelength - nm/n/k)\n",
    "np.all(db[0] == db[\"aSi Pierce 1972\"])"
   ]
  },
  {
   "cell_type": "code",
   "execution_count": 7,
   "id": "b6d8f991-8636-4c14-b3e3-d6e01c3121e1",
   "metadata": {
    "execution": {
     "iopub.execute_input": "2022-02-11T10:46:05.447074Z",
     "iopub.status.busy": "2022-02-11T10:46:05.445798Z",
     "iopub.status.idle": "2022-02-11T10:46:05.715686Z",
     "shell.execute_reply": "2022-02-11T10:46:05.715091Z",
     "shell.execute_reply.started": "2022-02-11T10:46:05.447014Z"
    },
    "tags": []
   },
   "outputs": [
    {
     "data": {
      "image/png": "[encoded data removed]",
      "text/plain": [
       "<Figure size 460.8x403.2 with 1 Axes>"
      ]
     },
     "metadata": {},
     "output_type": "display_data"
    }
   ],
   "source": [
    "# Create the layers - for this case we need the 2/1/7 entries of the database\n",
    "azo_data = db[\"AZO Treharne 2011\"]\n",
    "Layer1 = Layer3D(\"AZO\", 150, azo_data[:, 0], azo_data[:, 1], azo_data[:, 2])\n",
    "si_data = db[\"aSi Pierce 1972\"]\n",
    "Layer2 = Layer3D(\"aSi\", 300, si_data[:, 0], si_data[:, 1], si_data[:, 2])\n",
    "al_data = db[\"Al McPeak\"]\n",
    "Layer3 = Layer3D(\"Al\", 120, al_data[:, 0], al_data[:, 1], al_data[:, 2])\n",
    "# Override sim_config lmb\n",
    "broadband_config = sim_config.copy()\n",
    "lmb = np.linspace(300, 900, 200)\n",
    "broadband_config[\"lmb\"] = lmb\n",
    "# Run the calculation\n",
    "r, t = smm_broadband([Layer1, Layer2, Layer3], **broadband_config)\n",
    "\n",
    "plt.xlabel(\"Wavelength (nm)\")\n",
    "plt.ylabel(\"R/T/Abs\")\n",
    "plt.plot(lmb, r, lmb, t, lmb, 1-r-t);"
   ]
  },
  {
   "cell_type": "markdown",
   "id": "039139b5-48f8-4932-a7c0-2b1452e12a08",
   "metadata": {},
   "source": [
    "## Layer Simulations"
   ]
  },
  {
   "cell_type": "markdown",
   "id": "398c31b6-8a64-4e6d-a804-dd1f8370d8be",
   "metadata": {},
   "source": [
    "Calculate the individual layer absorptions for the previous case"
   ]
  },
  {
   "cell_type": "code",
   "execution_count": 12,
   "id": "dc67302e-51f2-49dc-9ab7-b4c0e0c333fc",
   "metadata": {
    "execution": {
     "iopub.execute_input": "2021-11-03T22:33:31.548772Z",
     "iopub.status.busy": "2021-11-03T22:33:31.548422Z",
     "iopub.status.idle": "2021-11-03T22:33:32.443809Z",
     "shell.execute_reply": "2021-11-03T22:33:32.443022Z",
     "shell.execute_reply.started": "2021-11-03T22:33:31.548730Z"
    },
    "tags": []
   },
   "outputs": [
    {
     "data": {
      "text/plain": [
       "<matplotlib.legend.Legend at 0x7fc85239f430>"
      ]
     },
     "execution_count": 12,
     "metadata": {},
     "output_type": "execute_result"
    },
    {
     "data": {
      "image/png": "[encoded data removed]",
      "text/plain": [
       "<Figure size 460.8x403.2 with 1 Axes>"
      ]
     },
     "metadata": {},
     "output_type": "display_data"
    }
   ],
   "source": [
    "db = Database(\"Database/database\")\n",
    "# Create the layers - for this case we need the 2/1/7 entries of the database\n",
    "azo_data = db[\"AZO Treharne 2011\"]\n",
    "Layer1 = Layer3D(\"AZO\", 150, azo_data[:, 0], azo_data[:, 1], azo_data[:, 2])\n",
    "si_data = db[\"aSi Pierce 1972\"]\n",
    "Layer2 = Layer3D(\"aSi\", 300, si_data[:, 0], si_data[:, 1], si_data[:, 2])\n",
    "al_data = db[\"Al McPeak\"]\n",
    "Layer3 = Layer3D(\"Al\", 120, al_data[:, 0], al_data[:, 1], al_data[:, 2])\n",
    "# Override sim_config lmb\n",
    "broadband_config = sim_config.copy()\n",
    "lmb = np.linspace(300, 900, 200)\n",
    "broadband_config[\"lmb\"] = lmb\n",
    "# Add the variable layer_i=\"layer\" to choose the layer to calculate the absorption\n",
    "abs_azo = smm_layer([Layer1, Layer2, Layer3], layer_i=1, **broadband_config)\n",
    "abs_si = smm_layer([Layer1, Layer2, Layer3], layer_i=2, **broadband_config)\n",
    "abs_al = smm_layer([Layer1, Layer2, Layer3], layer_i=3, **broadband_config)\n",
    "\n",
    "plt.xlabel(\"Wavelength (nm)\")\n",
    "plt.ylabel(\"Abs\")\n",
    "plt.plot(lmb, abs_azo, label=\"AZO Absorption\")\n",
    "plt.plot(lmb, abs_si, label=\"Si Absorption\")\n",
    "plt.plot(lmb, abs_al, label=\"Al Absorption\")\n",
    "plt.plot(lmb, abs_si+abs_azo+abs_al, label=\"Total Absorption\")\n",
    "plt.plot(lmb, 1-r-t, \"o\", label=\"SMM Broadband Absorption\")\n",
    "plt.legend(bbox_to_anchor=(1.05, 1.05))"
   ]
  },
  {
   "cell_type": "code",
   "execution_count": null,
   "id": "5551772f-fa1f-4d06-ae92-e4f2f6359cf7",
   "metadata": {},
   "outputs": [],
   "source": []
  }
 ],
 "metadata": {
  "kernelspec": {
   "display_name": "Python 3 (ipykernel)",
   "language": "python",
   "name": "python3"
  },
  "language_info": {
   "codemirror_mode": {
    "name": "ipython",
    "version": 3
   },
   "file_extension": ".py",
   "mimetype": "text/x-python",
   "name": "python",
   "nbconvert_exporter": "python",
   "pygments_lexer": "ipython3",
   "version": "3.8.12"
  }
 },
 "nbformat": 4,
 "nbformat_minor": 5
}
